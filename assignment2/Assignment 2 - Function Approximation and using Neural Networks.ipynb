{
 "cells": [
  {
   "cell_type": "markdown",
   "metadata": {},
   "source": [
    "# Assignment 2: Function Approximation for Q Learning\n",
    "\n",
    "Name: Nutcha Temiyasathit\n",
    "\n",
    "ID: A53249944"
   ]
  },
  {
   "cell_type": "markdown",
   "metadata": {},
   "source": [
    "### 1. Cartpole\n",
    "\n",
    "A cartpole problem is shown below.\n",
    "![pendulum2.png](pendulum2.png)\n",
    "\n",
    "The equation for the cartpole problem is nonlinear in nature, but it has been shown through robust control theory that a linear version of the equation of the form $\\dot{x} = Ax+Bu$ can be solved by a linear controller. Let us assume that we are interested in minimizing cart stray from the center, and pendulum falling. It turns out that typical techniques - open loop control, PID control, root locus, etc. is not suitable for stabilizing both the cart position (keep near center) or the pole angle (keep vertical). The solution to this question is a linear quadratic controller, but we won't be using the solution at the moment."
   ]
  },
  {
   "cell_type": "markdown",
   "metadata": {},
   "source": [
    "### Setup Environment for Function Approximation\n"
   ]
  },
  {
   "cell_type": "code",
   "execution_count": 1,
   "metadata": {},
   "outputs": [
    {
     "name": "stdout",
     "output_type": "stream",
     "text": [
      "\u001b[33mWARN: gym.spaces.Box autodetected dtype as <class 'numpy.float32'>. Please provide explicit dtype.\u001b[0m\n"
     ]
    },
    {
     "data": {
      "text/plain": [
       "array([-0.0165086 ,  0.04584295, -0.03371705,  0.03945258])"
      ]
     },
     "execution_count": 1,
     "metadata": {},
     "output_type": "execute_result"
    }
   ],
   "source": [
    "import gym\n",
    "import numpy as np\n",
    "import matplotlib.pyplot as plt\n",
    "import random\n",
    "import copy \n",
    "\n",
    "# Create the CartPole game environment\n",
    "env = gym.make('CartPole-v0')\n",
    "env.reset()"
   ]
  },
  {
   "cell_type": "markdown",
   "metadata": {},
   "source": [
    "#### Demonstrate your understanding of the simulation\n",
    "For OpenAI's CartPole-v0 environment,\n",
    "- describe the reward system\n",
    "- describe the each state variable (observation space)\n",
    "- describe the action space"
   ]
  },
  {
   "cell_type": "markdown",
   "metadata": {},
   "source": [
    "Ans:\n",
    "<ul>\n",
    "<li> Reward - +1 every time the pole remains upright </li>\n",
    "<li> State - cart position, cart velocity, pole angle, pole angular velociy</li>\n",
    "<li> Action - pushing cart to the left or right </li>\n",
    "</ul>"
   ]
  },
  {
   "cell_type": "markdown",
   "metadata": {},
   "source": [
    "### Write a Deep Neural Network class that creates a dense network of a desired architecture\n",
    "In this problem we will create neural network that is our function that takes states to q-values: $q=f(x)$. While any function approximator could be used (i.e. Chebyshev functions, taylor series polynomials), neural networks offer a most general form of 1st-order smooth function (though comprising of trivial small activation functions means that complex functions require a significant amount of weights to identify). \n",
    "\n",
    "Create a class for a QNetwork that uses PyTorch to create a fully connected sequential neural network, of the following properties:\n",
    "- solver: Adam\n",
    "\n",
    "- input and hidden layer activation function: tanh\n",
    "\n",
    "- output activation function: linear\n",
    "\n",
    "- loss: mse\n",
    "\n",
    "- learning_rate: variable\n",
    "\n",
    "- decay_rate: variable\n",
    "\n",
    "- hidden_state sizes: variable\n",
    "\n",
    "- state and action sizes: variable\n"
   ]
  },
  {
   "cell_type": "code",
   "execution_count": 2,
   "metadata": {},
   "outputs": [],
   "source": [
    "import torch\n",
    "import torch.nn as nn\n",
    "import torch.optim as optim\n",
    "import torch.nn.functional as F\n",
    "from torch.autograd import Variable\n",
    "from torch import FloatTensor, LongTensor, ByteTensor\n",
    "\n",
    "class QNetwork(nn.Module):\n",
    "    def __init__(self, learning_rate, state_size, action_size, hidden_size, alpha_decay):\n",
    "        super(QNetwork, self).__init__()\n",
    "        self.l1 = nn.Linear(state_size, hidden_size)\n",
    "        self.l2 = nn.Linear(hidden_size, action_size)\n",
    "        \n",
    "        self.loss_fn = nn.MSELoss()\n",
    "        self.learning_rate = learning_rate\n",
    "        self.alpha_decay = alpha_decay\n",
    "   \n",
    "    def forward(self, x):\n",
    "        x = F.tanh(x)\n",
    "        x = F.tanh(self.l1(x))\n",
    "        x = self.l2(x)\n",
    "        return x"
   ]
  },
  {
   "cell_type": "markdown",
   "metadata": {},
   "source": [
    "#### Write a Replay class that includes all the functionality of a replay buffer\n",
    "The replay buffer should kept to some maximum size (10000), allow adding of samples and returning of samples at random from the buffer. Each sample (or experience) is formed as (state, action, reward, next_state, done). The replay buffer should also be able to generate a minibatch. The generate_minibatch method should take in DQN, targetDQN, selected batch_size, and return the states present in the minibatch and the target Q values for those states."
   ]
  },
  {
   "cell_type": "code",
   "execution_count": 3,
   "metadata": {
    "collapsed": true
   },
   "outputs": [],
   "source": [
    "class Replay():\n",
    "# Replay should also have an initialize method which creates a minimum buffer for \n",
    "# the initial episodes to generate minibatches.  \n",
    "    def __init__(self, max_size):\n",
    "        self.max_size = max_size\n",
    "        self.memory = []\n",
    "        \n",
    "    def push(self, transition):\n",
    "        self.memory.append(transition)\n",
    "        if(len(self.memory)) > self.max_size:\n",
    "            del self.memory[0]\n",
    "    \n",
    "    def initialize(self, init_length, envir):\n",
    "        state = envir.reset()\n",
    "        for i in range(init_length):\n",
    "            action = np.random.randint(2)\n",
    "            next_state, reward, done, _ = envir.step(action)\n",
    "            transition = (FloatTensor([state]), \n",
    "                          LongTensor([[action]]),\n",
    "                          FloatTensor([reward]), \n",
    "                          FloatTensor([next_state]), done)\n",
    "            self.push(transition)\n",
    "            if done:\n",
    "                state = envir.reset()\n",
    "            else:\n",
    "                state = next_state\n",
    "        \n",
    "    def generate_minibatch(self, DQN, targetDQN, batch_size):\n",
    "        batch = random.sample(self.memory, batch_size)\n",
    "        batch_state, batch_action, batch_reward, batch_next_state, batch_done = zip(*batch)\n",
    "        \n",
    "        batch_state_v = Variable(torch.cat(batch_state))\n",
    "        batch_action_v = Variable(torch.cat(batch_action))\n",
    "        batch_reward_v = Variable(torch.cat(batch_reward))\n",
    "        batch_next_state_v = Variable(torch.cat(batch_next_state))\n",
    "        \n",
    "        batch_action_v = batch_action_v.view(batch_size, 1)\n",
    "        \n",
    "        q_a = DQN(batch_state_v).gather(1, batch_action_v)\n",
    "             \n",
    "        not_done_mask = Variable(torch.from_numpy(1-np.array(list(batch_done)))).float()\n",
    "        \n",
    "        target_q = not_done_mask * gamma* (targetDQN(batch_next_state_v).detach().max(1)[0])\n",
    "        target_q = batch_reward_v + target_q\n",
    "            \n",
    "        return batch_state_v.data.numpy(), (target_q, q_a)"
   ]
  },
  {
   "cell_type": "markdown",
   "metadata": {},
   "source": [
    "Write a function that creates a minibatch from a buffer"
   ]
  },
  {
   "cell_type": "markdown",
   "metadata": {},
   "source": [
    "### Perform Function Approximation\n",
    "Initialize DQN networks and Replay objects"
   ]
  },
  {
   "cell_type": "code",
   "execution_count": 4,
   "metadata": {},
   "outputs": [],
   "source": [
    "# Initialize DQN\n",
    "# Play around with your learning rate, alpha decay and hidden layer units \n",
    "# Two layers with a small number of units should be enough\n",
    "learning_rate = 0.001\n",
    "state_size = 4\n",
    "action_size = 2\n",
    "hidden_size = 256\n",
    "batch_size = 64\n",
    "alpha_decay = 0.5\n",
    "\n",
    "DQN = QNetwork(learning_rate, state_size, action_size, hidden_size, alpha_decay)\n",
    "targetDQN = QNetwork(learning_rate, state_size, action_size, hidden_size, alpha_decay)\n",
    "\n",
    "optimizer = optim.Adam(DQN.parameters(), lr=learning_rate)\n",
    "\n",
    "# set targetDQN weights to DQN weights\n",
    "# for ex. targetDQN.model.weights = DQN.model.weights (syntax given here is for representation purpose only)\n",
    "targetDQN.load_state_dict(DQN.state_dict())\n",
    "\n",
    "\n",
    "## Initialize Replay Buffer\n",
    "###################################\n",
    "## Populate the initial experience buffer\n",
    "###################################\n",
    "\n",
    "replay = Replay(max_size=10000)\n",
    "replay.initialize(init_length=1000, envir=env)"
   ]
  },
  {
   "cell_type": "markdown",
   "metadata": {},
   "source": [
    "#### Create a function that solves the above environment using a deep Q network that uses a minibatch strategy.\n",
    "Use the following parameters (these had to be derived empirically - there is generally no trusted way of choosing the right parameter values - i.e. gamma, number of episodes, decay rate, min_epsilon). \n",
    "\n",
    "Generate a graph of the average return per episode every 100 episodes."
   ]
  },
  {
   "cell_type": "code",
   "execution_count": 5,
   "metadata": {},
   "outputs": [],
   "source": [
    "# Runtime parameters\n",
    "num_episodes = 2000            # max number of episodes to learn from\n",
    "gamma = 0.99                    # future reward discount\n",
    "max_steps = 500                # cut off simulation after this many steps\n",
    "\n",
    "# Exploration parameters\n",
    "min_epsilon = 0.05             # minimum exploration probability\n",
    "decay_rate = 5/num_episodes    # exponential decay rate for exploration prob\n",
    "returns = np.zeros(num_episodes)\n",
    "\n",
    "for ep in range(1, num_episodes):\n",
    "    total_reward = 0\n",
    "    epsilon = min_epsilon + (1.0 - min_epsilon)*np.exp(-decay_rate*ep)\n",
    "    state = env.reset()\n",
    "    done = False\n",
    "    \n",
    "    # --> start episode \n",
    "    # explore/exploit and get action using DQN\n",
    "    # perform action and record new_state, action, reward\n",
    "    # populate Replay experience buffer\n",
    "    # <-- end episode\n",
    "    \n",
    "    while not done:  \n",
    "        rand = random.random()\n",
    "        action = LongTensor([[np.random.randint(2)]])\n",
    "        \n",
    "        if rand > epsilon:\n",
    "            action = DQN(Variable(FloatTensor([state]), volatile=True)).data.max(1)[1].view(1, 1)\n",
    "        \n",
    "        next_state, reward, done, _ = env.step(action[0,0])\n",
    "        \n",
    "        replay.push((FloatTensor([state]), \n",
    "                     action,\n",
    "                     FloatTensor([reward]), \n",
    "                     FloatTensor([next_state]), \n",
    "                     done))\n",
    "    \n",
    "        total_reward += reward\n",
    "        state = next_state\n",
    "        \n",
    "        # Replay\n",
    "        states, qvalues = replay.generate_minibatch(DQN, targetDQN, batch_size)\n",
    "\n",
    "        optimizer.zero_grad()\n",
    "        (y_true, y_pred) = qvalues\n",
    "        loss = DQN.loss_fn(y_pred, y_true)\n",
    "        loss.backward()\n",
    "        for param in DQN.parameters():\n",
    "            param.grad.data.clamp_(-1,1)\n",
    "        optimizer.step()\n",
    "    \n",
    "    returns[ep] = total_reward\n",
    "    \n",
    "    targetDQN.load_state_dict(DQN.state_dict())"
   ]
  },
  {
   "cell_type": "code",
   "execution_count": 6,
   "metadata": {},
   "outputs": [
    {
     "data": {
      "image/png": "[encoded data removed]",
      "text/plain": [
       "<matplotlib.figure.Figure at 0x113fc7160>"
      ]
     },
     "metadata": {},
     "output_type": "display_data"
    }
   ],
   "source": [
    "# plot average returns\n",
    "returns_over_100_episodes = []\n",
    "x = []\n",
    "for i in range(0,int(num_episodes/100)):\n",
    "    returns_over_100_episodes.append(sum(returns[100*i:100*(i+1)-1])/100)\n",
    "    x.append((i+1)*100)\n",
    "plt.plot(x,returns_over_100_episodes,'.-r')\n",
    "plt.ylabel('Average Returns per Episode')\n",
    "plt.xlabel('Num of Episodes')\n",
    "plt.show()\n",
    "    "
   ]
  },
  {
   "cell_type": "code",
   "execution_count": 7,
   "metadata": {},
   "outputs": [],
   "source": [
    "# DEMO FINAL NETWORK\n",
    "env.reset()\n",
    "# Take one random step to get the pole and cart moving\n",
    "state, reward, done, _ = env.step(env.action_space.sample())\n",
    "state = np.reshape(state, [1, state.size])\n",
    "total_reward = 0\n",
    "for i in range(0, max_steps):\n",
    "    env.render()\n",
    "    \n",
    "    # Get action from Q-network\n",
    "    Qs = DQN(Variable(FloatTensor([state]))).data.numpy()[0]\n",
    "    action = np.argmax(Qs)\n",
    "    \n",
    "    # Take action, get new state and reward\n",
    "    next_state, reward, done, _ = env.step(action)\n",
    "    total_reward += reward\n",
    "\n",
    "    if done:\n",
    "        break\n",
    "    else:\n",
    "        state = np.reshape(next_state, [1, state.size])\n"
   ]
  }
 ],
 "metadata": {
  "anaconda-cloud": {},
  "kernelspec": {
   "display_name": "Python 3",
   "language": "python",
   "name": "python3"
  },
  "language_info": {
   "codemirror_mode": {
    "name": "ipython",
    "version": 3
   },
   "file_extension": ".py",
   "mimetype": "text/x-python",
   "name": "python",
   "nbconvert_exporter": "python",
   "pygments_lexer": "ipython3",
   "version": "3.6.2"
  },
  "varInspector": {
   "cols": {
    "lenName": 16,
    "lenType": 16,
    "lenVar": 40
   },
   "kernels_config": {
    "python": {
     "delete_cmd_postfix": "",
     "delete_cmd_prefix": "del ",
     "library": "var_list.py",
     "varRefreshCmd": "print(var_dic_list())"
    },
    "r": {
     "delete_cmd_postfix": ") ",
     "delete_cmd_prefix": "rm(",
     "library": "var_list.r",
     "varRefreshCmd": "cat(var_dic_list()) "
    }
   },
   "types_to_exclude": [
    "module",
    "function",
    "builtin_function_or_method",
    "instance",
    "_Feature"
   ],
   "window_display": false
  }
 },
 "nbformat": 4,
 "nbformat_minor": 2
}
