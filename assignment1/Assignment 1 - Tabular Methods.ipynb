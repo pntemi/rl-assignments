{
 "cells": [
  {
   "cell_type": "markdown",
   "metadata": {},
   "source": [
    "# Assignment 1: Tabular Methods\n",
    "\n",
    "Name: Nutcha Temiyasathit\n",
    "\n",
    "ID: A53249944"
   ]
  },
  {
   "cell_type": "markdown",
   "metadata": {},
   "source": [
    "This exercise requires you to solve a simple grid-world problem called 'FrozenLake-v0' in OpenAI Gym.  We will solve the problem in two different ways. First we will solve the problem using dynamic programming, thus requiring a model of the system. Second we will do it using model-free temporal difference (Q-Learning). Finally, as a bonus you may also show it learning using a naive approach called hill-climbing. \n",
    "\n",
    "### Required for all \n",
    "#### Set up environment"
   ]
  },
  {
   "cell_type": "code",
   "execution_count": 1,
   "metadata": {},
   "outputs": [],
   "source": [
    "%matplotlib inline\n",
    "import gym\n",
    "import numpy as np\n",
    "from matplotlib import pyplot as plt\n",
    "from collections import Counter\n",
    "env = gym.make('FrozenLake-v0')"
   ]
  },
  {
   "cell_type": "markdown",
   "metadata": {},
   "source": [
    "#### Pre. Test Policy Function\n",
    "Write a function to test a policy. Return the average rate of successful episodes over 100 trials. "
   ]
  },
  {
   "cell_type": "code",
   "execution_count": 2,
   "metadata": {},
   "outputs": [],
   "source": [
    "def testPolicy(policy):\n",
    "    result = 0\n",
    "    for i in range(100):\n",
    "        state = env.reset()\n",
    "        done = False\n",
    "        while not done:\n",
    "            action = policy[state]\n",
    "            state, r, done, _ = env.step(action)\n",
    "        result += r\n",
    "\n",
    "    percentSuccess = result/100\n",
    "    \n",
    "    return percentSuccess"
   ]
  },
  {
   "cell_type": "markdown",
   "metadata": {},
   "source": [
    "## Model-based Learning\n",
    "\n",
    "### 1. Policy Iteration\n",
    "Perform policy iteration on the Frozenlake example. \n",
    "\n",
    "\n",
    "#### 1.1 Find the system model\n",
    "First, model $T(s,a,s')$ and $R(s,a,s')$ over 100000 randomly initializations."
   ]
  },
  {
   "cell_type": "code",
   "execution_count": 3,
   "metadata": {},
   "outputs": [],
   "source": [
    "def learnModel():\n",
    "\n",
    "    T = Counter()\n",
    "    count = Counter()\n",
    "    R = Counter()\n",
    "    \n",
    "    for i in range(100000):\n",
    "        env.reset()\n",
    "        env.env.s = np.random.choice(env.observation_space.n)\n",
    "        state = env.env.s\n",
    "        action = np.random.randint(0,4)\n",
    "        next_state, r, done, _ = env.step(action)\n",
    "        T[(state, action, next_state)] += 1\n",
    "        count[(state, action)] += 1\n",
    "        R[(state, action, next_state)] = r\n",
    "\n",
    "    for i, (s, a, s_) in enumerate(T):\n",
    "        T[(s, a, s_)] = T[(s, a, s_)]/count[(s,a)]\n",
    "\n",
    "    return R,T\n",
    "\n",
    "#first learn the model    \n",
    "[R,T] = learnModel()"
   ]
  },
  {
   "cell_type": "markdown",
   "metadata": {},
   "source": [
    "#### 1.2 What does the transition model tell you about the stochastic behavior of actions? What does it tell you about the stochasticity  of the rewards? What would you expect an optimal agent's policy to do?"
   ]
  },
  {
   "cell_type": "markdown",
   "metadata": {},
   "source": [
    "ans: The transition model states the probability fo changing from one state to another by performing an action. The transition model consists of many zero entries, because one state can only translate into at most 4 other states. The reward model is deterministic here i.e. only when it reaches the goal then the reward is 1, 0 otherwise. Therefore there are only three transitions near the goal that will result in reward. The optimal agent's policy then should move to the direction that will get itself closer to the goal."
   ]
  },
  {
   "cell_type": "markdown",
   "metadata": {},
   "source": [
    "#### 1.3 Write a function for Policy Evaluation"
   ]
  },
  {
   "cell_type": "code",
   "execution_count": 4,
   "metadata": {},
   "outputs": [],
   "source": [
    "#runPolicyEvaluation:\n",
    "def runPolicyEvaluation(policy,V,R,T,discount_factor):\n",
    "    Vnew = np.zeros(16)\n",
    "    for i, v in enumerate(V):\n",
    "        for j in range(16):\n",
    "            Vnew[i] += T[(i, policy[i], j)]*(R[i, policy[i], j] + discount_factor*V[j])\n",
    "\n",
    "    return Vnew"
   ]
  },
  {
   "cell_type": "markdown",
   "metadata": {},
   "source": [
    "#### 1.4 Run Policy iteration.\n",
    "and show a bar graph of successful runs vs iteration on the policy. Use a discount factor of 0.98, and terminate policy  after 40 iterations of policy updates.  Plot the percentSuccesses at every iteration (i.e. the return of the testPolicy function)."
   ]
  },
  {
   "cell_type": "code",
   "execution_count": 5,
   "metadata": {},
   "outputs": [
    {
     "name": "stdout",
     "output_type": "stream",
     "text": [
      "Policy iteration policy: [0, 3, 0, 3, 0, 0, 0, 0, 3, 1, 0, 0, 0, 2, 1, 0]\n"
     ]
    },
    {
     "data": {
      "image/png": "[encoded data removed]",
      "text/plain": [
       "<matplotlib.figure.Figure at 0x111ab2e10>"
      ]
     },
     "metadata": {},
     "output_type": "display_data"
    }
   ],
   "source": [
    "policy = [np.random.randint(0,4) for i in range(16)]\n",
    "V = np.zeros(16)\n",
    "discount_factor = 0.98\n",
    "percentSuccesses = np.zeros(40)\n",
    "\n",
    "for i in range(40):\n",
    "    V = runPolicyEvaluation(policy, V, R, T, discount_factor)\n",
    "    for j in range(16):\n",
    "        action_values = np.zeros(4)\n",
    "        for a in range(4):\n",
    "            for s in range(16):\n",
    "                action_values[a] += T[(j, a, s)]*(R[j, a, s] + discount_factor*V[s]) \n",
    "        policy[j] = np.argmax(action_values)\n",
    "    \n",
    "    percentSuccesses[i] = testPolicy(policy)\n",
    "    \n",
    "# plot improvement over time\n",
    "plt.figure()\n",
    "plt.bar(np.arange(len(percentSuccesses)), 100*np.array(percentSuccesses), align='center', alpha=0.5)\n",
    "plt.ylabel('% Episodes Successful')\n",
    "plt.xlabel('Iteration') \n",
    "plt.title('Policy Iteration',fontsize=16)  \n",
    "print('Policy iteration policy:', policy)"
   ]
  },
  {
   "cell_type": "markdown",
   "metadata": {},
   "source": [
    "## Model-Free Learning"
   ]
  },
  {
   "cell_type": "markdown",
   "metadata": {},
   "source": [
    "### 2 Q Value-Iteration (Q-Learning)\n",
    "\n",
    "#### 2.1 Set up a Q learning function\n",
    "Set your exploration rate to 1-episode_num/total_num_of_episodes for linear convergence from completely random action selection to a greedy policy. Return a set of policies (at 5%, 10%,...100% of the total number of episodes) so that in the later section you can perform policy evaluation on intermediate Q-tables and show progress."
   ]
  },
  {
   "cell_type": "code",
   "execution_count": 6,
   "metadata": {
    "collapsed": true
   },
   "outputs": [],
   "source": [
    "def runQLearning(learning_rate,discount_factor,num_of_episodes,Q,explore_type='linear'):\n",
    "    Q_saved = []\n",
    "    explore_rate = 0\n",
    "    for i in range(num_of_episodes+1):\n",
    "        i +=1\n",
    "        if explore_type == 'linear':\n",
    "            explore_rate = 1-i/num_of_episodes\n",
    "        else:\n",
    "            explore_rate = 1000/(1000+i)\n",
    "        \n",
    "        state = env.reset()\n",
    "        done = False\n",
    "        while not done:\n",
    "            action = np.argmax(Q[state,:])\n",
    "            if(np.random.random() <= explore_rate):\n",
    "                action = np.random.randint(0,4)\n",
    "            state_, r, done, _ = env.step(action)\n",
    "            \n",
    "            Q[state,action]= Q[state,action]+learning_rate*(r+ discount_factor* np.max(Q[state_,:])-Q[state,action])\n",
    "            state = state_\n",
    "        \n",
    "        if i%(0.05*num_of_episodes) == 0:\n",
    "            Q_saved.append(Q.copy()) #save last Q\n",
    "    return Q_saved"
   ]
  },
  {
   "cell_type": "markdown",
   "metadata": {},
   "source": [
    "#### 2.2 Perform Q-learning. \n",
    "Show policies during intermediate phases of Q-learning, at 0, 10%, 20%,...,100% of the total episodes during training. Set a learning rate of 0.98 and a discount factor of 0.95. Start with a zero-filled Q-table. Run 10000 episodes. Plot the bar graph of the success rate over time to visualize the improvements to success rate the new policies are providing. "
   ]
  },
  {
   "cell_type": "code",
   "execution_count": 7,
   "metadata": {},
   "outputs": [
    {
     "name": "stdout",
     "output_type": "stream",
     "text": [
      "Q-learning (linear) policy: [0, 3, 0, 3, 0, 0, 0, 0, 3, 1, 0, 0, 0, 2, 1, 0]\n"
     ]
    },
    {
     "data": {
      "image/png": "[encoded data removed]",
      "text/plain": [
       "<matplotlib.figure.Figure at 0x111aad400>"
      ]
     },
     "metadata": {},
     "output_type": "display_data"
    }
   ],
   "source": [
    "learning_rate = 0.02\n",
    "discount_factor = 0.95\n",
    "num_episodes = 10000\n",
    "\n",
    "Q = np.zeros([16, 4])\n",
    "\n",
    "Q_saved = runQLearning(learning_rate, discount_factor, num_episodes, Q)\n",
    "\n",
    "policy = [np.random.randint(0,4) for i in range(16)]\n",
    "percentSuccesses = []\n",
    "\n",
    "for q in Q_saved:\n",
    "    for j in range(16):\n",
    "        policy[j] = np.argmax(q[j, :])\n",
    "        \n",
    "    percentSuccesses.append(testPolicy(policy))\n",
    "    \n",
    "plt.figure()\n",
    "plt.bar(np.arange(len(percentSuccesses)), 100*np.array(percentSuccesses), align='center', alpha=0.5)\n",
    "plt.ylabel('% Episodes Successful')\n",
    "plt.xlabel('Iterations')\n",
    "plt.title('linear Rate Exploitation', fontsize=16)\n",
    "print('Q-learning (linear) policy:', policy)"
   ]
  },
  {
   "cell_type": "markdown",
   "metadata": {},
   "source": [
    "#### 2.3 Log Rate Exploration\n",
    "\n",
    "Run Q-learning for a log exploration rate, $\\frac{1000}{1000+\\text{episode_num}}$, for 10,000 episodes. Perform policy evaluation and plot the success rate over time. You may find setting Q0 to a random number initialization helps (set it to something very small, i.e. 0.000001\\*rand(), since setting it to zero sets a fixed seed)."
   ]
  },
  {
   "cell_type": "code",
   "execution_count": 8,
   "metadata": {},
   "outputs": [
    {
     "name": "stdout",
     "output_type": "stream",
     "text": [
      "Q-learning (log) policy: [0, 3, 0, 0, 0, 3, 2, 0, 3, 1, 0, 0, 1, 2, 1, 3]\n"
     ]
    },
    {
     "data": {
      "image/png": "[encoded data removed]",
      "text/plain": [
       "<matplotlib.figure.Figure at 0x112ca5d30>"
      ]
     },
     "metadata": {},
     "output_type": "display_data"
    }
   ],
   "source": [
    "learning_rate = 0.02\n",
    "discount_factor = 0.95\n",
    "num_episodes = 10000\n",
    "\n",
    "Q = np.array([[0.000001*np.random.rand() for i in range(4)] for j in range(16)])\n",
    "\n",
    "Q_saved = runQLearning(learning_rate, discount_factor, num_episodes, Q, 'log')\n",
    "\n",
    "policy = [np.random.randint(0,4) for i in range(16)]\n",
    "percentSuccesses = []\n",
    "\n",
    "for q in Q_saved:\n",
    "    for j in range(16):\n",
    "        policy[j] = np.argmax(q[j, :])\n",
    "        \n",
    "    percentSuccesses.append(testPolicy(policy))\n",
    "    \n",
    "plt.figure()\n",
    "plt.bar(np.arange(len(percentSuccesses)), 100*np.array(percentSuccesses), align='center', alpha=0.5)\n",
    "plt.ylabel('% Episodes Successful')\n",
    "plt.xlabel('Iterations')\n",
    "plt.title('Log Rate Exploitation', fontsize=16)\n",
    "print('Q-learning (log) policy:', policy)"
   ]
  },
  {
   "cell_type": "markdown",
   "metadata": {
    "collapsed": true
   },
   "source": [
    "### BONUS: Hill Climbing (25%, granted only if Parts 1 and 2 are complete)\n",
    "\n",
    "Demonstrate hill climbing, where your Q values are chosen randomly, and you save improvements, with new Q values to try as $$Q_{test}\\leftarrow Q_{best}+rand(S,A)$$\n",
    "Plot the a bar graph with x-axis labelling the iteration number when an improvement occurred, and y axis as the % of successful episodes. Run on N = 1000 iterations of hill climbing, with 100 episodes per iteration. "
   ]
  },
  {
   "cell_type": "code",
   "execution_count": 9,
   "metadata": {
    "scrolled": true
   },
   "outputs": [
    {
     "name": "stdout",
     "output_type": "stream",
     "text": [
      "[0, 0, 0, 2, 0, 3, 0, 2, 3, 3, 0, 2, 2, 3, 0, 3] : Hill-climbing policy\n"
     ]
    },
    {
     "data": {
      "image/png": "[encoded data removed]",
      "text/plain": [
       "<matplotlib.figure.Figure at 0x1131dee10>"
      ]
     },
     "metadata": {},
     "output_type": "display_data"
    }
   ],
   "source": [
    "Q_best = np.array([[np.random.rand() for i in range(4)] for j in range(16)])\n",
    "\n",
    "improvementsIndex = []\n",
    "percentSuccesses = []\n",
    "\n",
    "policy = [np.argmax(Q_best[i, :]) for i in range(16)]\n",
    "best_performance = testPolicy(policy)\n",
    "\n",
    "for i in range(1000):\n",
    "    Q_test = np.add(Q_best, np.array([[np.random.rand() for i in range(4)] for j in range(16)]))\n",
    "    for j in range(16):\n",
    "        policy[j] = np.argmax(Q_test[j, :])\n",
    "\n",
    "    performance = testPolicy(policy)\n",
    "    if performance > best_performance:\n",
    "        Q_best = Q_test\n",
    "        best_performance = performance\n",
    "        improvementsIndex.append(i)\n",
    "        percentSuccesses.append(best_performance)\n",
    "            \n",
    "    \n",
    "plt.figure()\n",
    "plt.bar(np.arange(len(improvementsIndex)), 100*np.array(percentSuccesses), align='center', alpha=0.5)\n",
    "plt.xticks(np.arange(len(improvementsIndex)),improvementsIndex) \n",
    "plt.ylabel('% Episodes Successful')\n",
    "plt.xlabel('Iteration')\n",
    "plt.title('Hill Climbing',fontsize=16)\n",
    "print(policy,': Hill-climbing policy')\n"
   ]
  }
 ],
 "metadata": {
  "kernelspec": {
   "display_name": "Python 3",
   "language": "python",
   "name": "python3"
  },
  "language_info": {
   "codemirror_mode": {
    "name": "ipython",
    "version": 3
   },
   "file_extension": ".py",
   "mimetype": "text/x-python",
   "name": "python",
   "nbconvert_exporter": "python",
   "pygments_lexer": "ipython3",
   "version": "3.6.2"
  },
  "varInspector": {
   "cols": {
    "lenName": 16,
    "lenType": 16,
    "lenVar": 40
   },
   "kernels_config": {
    "python": {
     "delete_cmd_postfix": "",
     "delete_cmd_prefix": "del ",
     "library": "var_list.py",
     "varRefreshCmd": "print(var_dic_list())"
    },
    "r": {
     "delete_cmd_postfix": ") ",
     "delete_cmd_prefix": "rm(",
     "library": "var_list.r",
     "varRefreshCmd": "cat(var_dic_list()) "
    }
   },
   "types_to_exclude": [
    "module",
    "function",
    "builtin_function_or_method",
    "instance",
    "_Feature"
   ],
   "window_display": false
  }
 },
 "nbformat": 4,
 "nbformat_minor": 2
}
